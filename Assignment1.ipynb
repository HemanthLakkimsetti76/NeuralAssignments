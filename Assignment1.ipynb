{
 "cells": [
  {
   "cell_type": "code",
   "execution_count": 4,
   "id": "785fe0be-6512-49ff-9516-2812a279e961",
   "metadata": {},
   "outputs": [
    {
     "name": "stdin",
     "output_type": "stream",
     "text": [
      "Enter a string: python\n"
     ]
    },
    {
     "name": "stdout",
     "output_type": "stream",
     "text": [
      "final output is: htyp\n"
     ]
    }
   ],
   "source": [
    "#input the string,delete atleast 2 characters,reverse the resultant string and print it\n",
    "\n",
    "str=input(\"Enter a string:\")\n",
    "length=len(str)\n",
    "delete=str[:length-2]\n",
    "strRev = delete[::-1]\n",
    "print (\"final output is:\", strRev)"
   ]
  },
  {
   "cell_type": "code",
   "execution_count": 6,
   "id": "0fd47fc0-8b82-41d7-8faf-522d8401e6ac",
   "metadata": {},
   "outputs": [
    {
     "name": "stdin",
     "output_type": "stream",
     "text": [
      "Enter 1st num 2\n",
      "Enter 2nd num 4\n"
     ]
    },
    {
     "name": "stdout",
     "output_type": "stream",
     "text": [
      "addition 6\n",
      "substraction -2\n",
      "multiplication 8\n",
      "division 0.5\n"
     ]
    }
   ],
   "source": [
    "#take 2 numbers from the user and perform 4 arithmetic operations on them\n",
    "\n",
    "a=int(input(\"Enter 1st num\"))\n",
    "b=int(input(\"Enter 2nd num\"))\n",
    "sum=a+b\n",
    "mul=a*b\n",
    "sub=a-b\n",
    "div=a/b\n",
    "print(\"addition\",sum)\n",
    "print(\"substraction\" , sub)\n",
    "print(\"multiplication\",mul)\n",
    "print(\"division\",div)"
   ]
  },
  {
   "cell_type": "code",
   "execution_count": 9,
   "id": "308a2c2b-e60c-4ab5-ba3d-e474d4d18e1a",
   "metadata": {},
   "outputs": [
    {
     "name": "stdin",
     "output_type": "stream",
     "text": [
      "Enter a string: python python\n"
     ]
    },
    {
     "name": "stdout",
     "output_type": "stream",
     "text": [
      "Modified string:\n",
      "pythons pythons\n"
     ]
    }
   ],
   "source": [
    "#QUESTION 2\n",
    "\n",
    "#accept a sentence and replace each occurance of 'python' with 'pythons'\n",
    "\n",
    "str=input(\"Enter a sentence with the word python in it:\")\n",
    "modified_str=str.replace('python','pythons')\n",
    "print(\"Modified string:\")\n",
    "print(modified_str)"
   ]
  },
  {
   "cell_type": "code",
   "execution_count": 10,
   "id": "12bef412-b3cb-4cf9-8a5f-61c7bc90cd45",
   "metadata": {},
   "outputs": [
    {
     "name": "stdin",
     "output_type": "stream",
     "text": [
      "Please enter your score: 88\n"
     ]
    },
    {
     "name": "stdout",
     "output_type": "stream",
     "text": [
      "Your score is 88\n",
      "Your Grade is B\n"
     ]
    }
   ],
   "source": [
    "#QUESTION 3\n",
    "\n",
    "#print the letter grade based on input class score\n",
    "\n",
    "score=int(input(\"Please enter your score:\"))\n",
    "print(\"Your score is\",score)\n",
    "if score >= 90 and score <= 100:\n",
    "    print(\"Your Grade is A\")\n",
    "elif score >= 80 and score <= 89:\n",
    "    print(\"Your Grade is B\")\n",
    "elif score >= 70 and score <= 79:\n",
    "    print(\"Your Grade is C\")\n",
    "elif score >= 60 and score <= 69:\n",
    "    print(\"Your Grade is D\")\n",
    "else:\n",
    "    print(\"Your Grade is F\")"
   ]
  },
  {
   "cell_type": "code",
   "execution_count": null,
   "id": "83c3039f-7d4b-4265-a936-a45258249a13",
   "metadata": {},
   "outputs": [],
   "source": []
  }
 ],
 "metadata": {
  "kernelspec": {
   "display_name": "Python 3 (ipykernel)",
   "language": "python",
   "name": "python3"
  },
  "language_info": {
   "codemirror_mode": {
    "name": "ipython",
    "version": 3
   },
   "file_extension": ".py",
   "mimetype": "text/x-python",
   "name": "python",
   "nbconvert_exporter": "python",
   "pygments_lexer": "ipython3",
   "version": "3.12.1"
  }
 },
 "nbformat": 4,
 "nbformat_minor": 5
}
